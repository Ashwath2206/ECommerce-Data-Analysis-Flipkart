{
 "cells": [
  {
   "cell_type": "markdown",
   "id": "6a7d5404",
   "metadata": {},
   "source": [
    "<font color='blue'>\n",
    "    <font size = 5>\n",
    "        You have been given the role of a business analyst for an E-Commerce company and have been asked to prepare a basic report on the data. Follow the steps below for preparation of the report. \n",
    "\n",
    "Before you start analysing the data, it is always a good practice to see the size of the data, its features and feature types. If the data set is big, it is not possible to print out all the records. \n",
    "    </font>\n",
    "####  Note: Use the markdown feature of Python to explain your answer.\n",
    "    "
   ]
  },
  {
   "cell_type": "markdown",
   "id": "daf5d935",
   "metadata": {},
   "source": [
    "## Load the necessary libraries. Import and load the dataset with a name ECom_Data ."
   ]
  },
  {
   "cell_type": "code",
   "execution_count": 1,
   "id": "eec2a3b5",
   "metadata": {},
   "outputs": [],
   "source": [
    "import numpy as np\n",
    "import pandas as pd\n",
    "import matplotlib.pyplot as plt\n",
    "import seaborn as sns\n",
    "pd.options.display.max_rows = 10\n",
    "import warnings\n",
    "warnings.filterwarnings('ignore')"
   ]
  },
  {
   "cell_type": "code",
   "execution_count": 2,
   "id": "8e1fcc97",
   "metadata": {},
   "outputs": [],
   "source": [
    "# Get the Data\n",
    "\n",
    "ECom_Data=pd.read_csv(\"E-Commerce_Flipkart.csv\")\n"
   ]
  },
  {
   "cell_type": "markdown",
   "id": "2cf5f20f",
   "metadata": {},
   "source": [
    "<font color='blue'>\n",
    "    <font size = 5>\n",
    "        We have read the data and stored the data in \"ECom_Data\" variable </font>"
   ]
  },
  {
   "cell_type": "markdown",
   "id": "a0a4f84a",
   "metadata": {},
   "source": [
    "## Q 1.\tTo get familiar with the data\n",
    "## a)\tPrint out the first 10 and the last 10 records of the data. (2 marks)\n",
    "## b)\tHow many rows and columns are present in the dataset? Use any two different methods to extract this information. (2 + 2 + 1 marks)\n",
    "## c)\tHow many object data types are there? (1 mark)\n",
    "## d)\tIs there any Boolean data type? (1 mark) \n",
    "#### Note: Use the markdown feature of Python to explain your answer.\n"
   ]
  },
  {
   "cell_type": "code",
   "execution_count": null,
   "id": "b767963f",
   "metadata": {},
   "outputs": [],
   "source": []
  },
  {
   "cell_type": "markdown",
   "id": "0ba43d74",
   "metadata": {},
   "source": [
    "#### Ans 1 a) 1st and last 10 rows of the data are joined using concat function."
   ]
  },
  {
   "cell_type": "code",
   "execution_count": 3,
   "id": "6684f5a1",
   "metadata": {},
   "outputs": [
    {
     "data": {
      "text/html": [
       "<div>\n",
       "<style scoped>\n",
       "    .dataframe tbody tr th:only-of-type {\n",
       "        vertical-align: middle;\n",
       "    }\n",
       "\n",
       "    .dataframe tbody tr th {\n",
       "        vertical-align: top;\n",
       "    }\n",
       "\n",
       "    .dataframe thead th {\n",
       "        text-align: right;\n",
       "    }\n",
       "</style>\n",
       "<table border=\"1\" class=\"dataframe\">\n",
       "  <thead>\n",
       "    <tr style=\"text-align: right;\">\n",
       "      <th></th>\n",
       "      <th>Customer_uniq_id</th>\n",
       "      <th>Region</th>\n",
       "      <th>Order_Date</th>\n",
       "      <th>Expected_Delivery_Date</th>\n",
       "      <th>Delivered_Date</th>\n",
       "      <th>product_name</th>\n",
       "      <th>product_main_category</th>\n",
       "      <th>product_subcategory</th>\n",
       "      <th>product_category_filter</th>\n",
       "      <th>product_category_subfilter</th>\n",
       "      <th>product_unique ID</th>\n",
       "      <th>retail_price</th>\n",
       "      <th>discounted_price</th>\n",
       "      <th>product_rating</th>\n",
       "      <th>Brand</th>\n",
       "      <th>product_specifications</th>\n",
       "      <th>description</th>\n",
       "    </tr>\n",
       "  </thead>\n",
       "  <tbody>\n",
       "    <tr>\n",
       "      <th>0</th>\n",
       "      <td>c2d766ca982eca8304150849735ffef9</td>\n",
       "      <td>North</td>\n",
       "      <td>31-12-2021</td>\n",
       "      <td>03-01-2022</td>\n",
       "      <td>02-01-2022</td>\n",
       "      <td>Alisha Solid Women's Cycling Shorts</td>\n",
       "      <td>Clothing</td>\n",
       "      <td>Women's Clothing</td>\n",
       "      <td>Lingerie, Sleep &amp; Swimwear</td>\n",
       "      <td>Shorts</td>\n",
       "      <td>SRTEH2FF9KEDEFGF</td>\n",
       "      <td>999</td>\n",
       "      <td>379</td>\n",
       "      <td>2.0</td>\n",
       "      <td>Alisha</td>\n",
       "      <td>{\"product_specification\"=&gt;[{\"key\"=&gt;\"Number of ...</td>\n",
       "      <td>Key Features of Alisha Solid Women's Cycling S...</td>\n",
       "    </tr>\n",
       "    <tr>\n",
       "      <th>1</th>\n",
       "      <td>7f7036a6d550aaa89d34c77bd39a5e48</td>\n",
       "      <td>East</td>\n",
       "      <td>31-12-2021</td>\n",
       "      <td>03-01-2022</td>\n",
       "      <td>02-01-2022</td>\n",
       "      <td>FabHomeDecor Fabric Double Sofa Bed</td>\n",
       "      <td>Furniture</td>\n",
       "      <td>Living Room Furniture</td>\n",
       "      <td>Sofa Beds &amp; Futons</td>\n",
       "      <td>FabHomeDecor Fabric Double Sofa Bed (Finish C...</td>\n",
       "      <td>SBEEH3QGU7MFYJFY</td>\n",
       "      <td>32157</td>\n",
       "      <td>22646</td>\n",
       "      <td>2.0</td>\n",
       "      <td>FabHomeDecor</td>\n",
       "      <td>{\"product_specification\"=&gt;[{\"key\"=&gt;\"Installati...</td>\n",
       "      <td>FabHomeDecor Fabric Double Sofa Bed (Finish Co...</td>\n",
       "    </tr>\n",
       "    <tr>\n",
       "      <th>2</th>\n",
       "      <td>f449ec65dcbc041b6ae5e6a32717d01b</td>\n",
       "      <td>East</td>\n",
       "      <td>31-12-2021</td>\n",
       "      <td>03-01-2022</td>\n",
       "      <td>02-01-2022</td>\n",
       "      <td>AW Bellies</td>\n",
       "      <td>Footwear</td>\n",
       "      <td>Women's Footwear</td>\n",
       "      <td>Ballerinas</td>\n",
       "      <td>AW Bellies</td>\n",
       "      <td>SHOEH4GRSUBJGZXE</td>\n",
       "      <td>999</td>\n",
       "      <td>499</td>\n",
       "      <td>1.0</td>\n",
       "      <td>AW</td>\n",
       "      <td>{\"product_specification\"=&gt;[{\"key\"=&gt;\"Ideal For\"...</td>\n",
       "      <td>Key Features of AW Bellies Sandals Wedges Heel...</td>\n",
       "    </tr>\n",
       "    <tr>\n",
       "      <th>3</th>\n",
       "      <td>0973b37acd0c664e3de26e97e5571454</td>\n",
       "      <td>West</td>\n",
       "      <td>31-12-2021</td>\n",
       "      <td>03-01-2022</td>\n",
       "      <td>02-01-2022</td>\n",
       "      <td>Alisha Solid Women's Cycling Shorts</td>\n",
       "      <td>Clothing</td>\n",
       "      <td>Women's Clothing</td>\n",
       "      <td>Lingerie, Sleep &amp; Swimwear</td>\n",
       "      <td>Shorts</td>\n",
       "      <td>SRTEH2F6HUZMQ6SJ</td>\n",
       "      <td>699</td>\n",
       "      <td>267</td>\n",
       "      <td>5.0</td>\n",
       "      <td>Alisha</td>\n",
       "      <td>{\"product_specification\"=&gt;[{\"key\"=&gt;\"Number of ...</td>\n",
       "      <td>Key Features of Alisha Solid Women's Cycling S...</td>\n",
       "    </tr>\n",
       "    <tr>\n",
       "      <th>4</th>\n",
       "      <td>bc940ea42ee6bef5ac7cea3fb5cfbee7</td>\n",
       "      <td>West</td>\n",
       "      <td>31-12-2021</td>\n",
       "      <td>03-01-2022</td>\n",
       "      <td>02-01-2022</td>\n",
       "      <td>Sicons All Purpose Arnica Dog Shampoo</td>\n",
       "      <td>Pet Supplies</td>\n",
       "      <td>Grooming</td>\n",
       "      <td>Skin &amp; Coat Care</td>\n",
       "      <td>Shampoo</td>\n",
       "      <td>PSOEH3ZYDMSYARJ5</td>\n",
       "      <td>220</td>\n",
       "      <td>210</td>\n",
       "      <td>5.0</td>\n",
       "      <td>Sicons</td>\n",
       "      <td>{\"product_specification\"=&gt;[{\"key\"=&gt;\"Pet Type\",...</td>\n",
       "      <td>Specifications of Sicons All Purpose Arnica Do...</td>\n",
       "    </tr>\n",
       "    <tr>\n",
       "      <th>...</th>\n",
       "      <td>...</td>\n",
       "      <td>...</td>\n",
       "      <td>...</td>\n",
       "      <td>...</td>\n",
       "      <td>...</td>\n",
       "      <td>...</td>\n",
       "      <td>...</td>\n",
       "      <td>...</td>\n",
       "      <td>...</td>\n",
       "      <td>...</td>\n",
       "      <td>...</td>\n",
       "      <td>...</td>\n",
       "      <td>...</td>\n",
       "      <td>...</td>\n",
       "      <td>...</td>\n",
       "      <td>...</td>\n",
       "      <td>...</td>\n",
       "    </tr>\n",
       "    <tr>\n",
       "      <th>8922</th>\n",
       "      <td>90d30478255e23621e8929ed15c2f6e4</td>\n",
       "      <td>South</td>\n",
       "      <td>01-12-2020</td>\n",
       "      <td>04-12-2020</td>\n",
       "      <td>04-12-2020</td>\n",
       "      <td>Sinina Chanderi Embroidered Salwar Suit Dupatt...</td>\n",
       "      <td>Clothing</td>\n",
       "      <td>Women's Clothing</td>\n",
       "      <td>Ethnic Wear</td>\n",
       "      <td>Fabric</td>\n",
       "      <td>FABEGGHHDFMY8BZU</td>\n",
       "      <td>2980</td>\n",
       "      <td>1490</td>\n",
       "      <td>3.0</td>\n",
       "      <td>Sinina</td>\n",
       "      <td>{\"product_specification\"=&gt;[{\"key\"=&gt;\"Fabric\", \"...</td>\n",
       "      <td>Key Features of Sinina Chanderi Embroidered Sa...</td>\n",
       "    </tr>\n",
       "    <tr>\n",
       "      <th>8923</th>\n",
       "      <td>20a73e3f41490a73ceeba5f17658db8f</td>\n",
       "      <td>West</td>\n",
       "      <td>01-12-2020</td>\n",
       "      <td>04-12-2020</td>\n",
       "      <td>04-12-2020</td>\n",
       "      <td>Aarushi Fashion Chanderi Embroidered Salwar Su...</td>\n",
       "      <td>Clothing</td>\n",
       "      <td>Women's Clothing</td>\n",
       "      <td>Ethnic Wear</td>\n",
       "      <td>Fabric</td>\n",
       "      <td>FABEG8GFDUWRSNU3</td>\n",
       "      <td>2600</td>\n",
       "      <td>1300</td>\n",
       "      <td>1.0</td>\n",
       "      <td>Aarushi Fashion</td>\n",
       "      <td>{\"product_specification\"=&gt;[{\"key\"=&gt;\"Fabric\", \"...</td>\n",
       "      <td>Key Features of Aarushi Fashion Chanderi Embro...</td>\n",
       "    </tr>\n",
       "    <tr>\n",
       "      <th>8924</th>\n",
       "      <td>5c1554cd45f9d538c2c6947dbdd59c75</td>\n",
       "      <td>East</td>\n",
       "      <td>01-12-2020</td>\n",
       "      <td>04-12-2020</td>\n",
       "      <td>04-12-2020</td>\n",
       "      <td>Ambika Lahenga Embroidered Lehenga, Choli and ...</td>\n",
       "      <td>Clothing</td>\n",
       "      <td>Women's Clothing</td>\n",
       "      <td>Ethnic Wear</td>\n",
       "      <td>Lehenga Cholis</td>\n",
       "      <td>LEHEGGEHYN4G2RPW</td>\n",
       "      <td>39992</td>\n",
       "      <td>24995</td>\n",
       "      <td>1.0</td>\n",
       "      <td>Ambika Lahenga</td>\n",
       "      <td>{\"product_specification\"=&gt;[{\"key\"=&gt;\"Fabric\", \"...</td>\n",
       "      <td>Key Features of Ambika Lahenga Embroidered Leh...</td>\n",
       "    </tr>\n",
       "    <tr>\n",
       "      <th>8925</th>\n",
       "      <td>6b737a4deca1ed0e56c179e66036e994</td>\n",
       "      <td>West</td>\n",
       "      <td>01-12-2020</td>\n",
       "      <td>04-12-2020</td>\n",
       "      <td>04-12-2020</td>\n",
       "      <td>Sinina Chanderi Embroidered Salwar Suit Dupatt...</td>\n",
       "      <td>Clothing</td>\n",
       "      <td>Women's Clothing</td>\n",
       "      <td>Ethnic Wear</td>\n",
       "      <td>Fabric</td>\n",
       "      <td>FABEGGHHGSVCHGFV</td>\n",
       "      <td>2000</td>\n",
       "      <td>1000</td>\n",
       "      <td>3.0</td>\n",
       "      <td>Sinina</td>\n",
       "      <td>{\"product_specification\"=&gt;[{\"key\"=&gt;\"Fabric\", \"...</td>\n",
       "      <td>Key Features of Sinina Chanderi Embroidered Sa...</td>\n",
       "    </tr>\n",
       "    <tr>\n",
       "      <th>8926</th>\n",
       "      <td>a5235ac28d3d5487f54025f9d6b57433</td>\n",
       "      <td>North</td>\n",
       "      <td>01-12-2020</td>\n",
       "      <td>04-12-2020</td>\n",
       "      <td>04-12-2020</td>\n",
       "      <td>Aarushi Fashion Silk Striped Salwar Suit Dupat...</td>\n",
       "      <td>Clothing</td>\n",
       "      <td>Women's Clothing</td>\n",
       "      <td>Ethnic Wear</td>\n",
       "      <td>Fabric</td>\n",
       "      <td>FABEG8GYDAABECZH</td>\n",
       "      <td>2800</td>\n",
       "      <td>1350</td>\n",
       "      <td>4.0</td>\n",
       "      <td>Aarushi Fashion</td>\n",
       "      <td>{\"product_specification\"=&gt;[{\"key\"=&gt;\"Fabric\", \"...</td>\n",
       "      <td>Key Features of Aarushi Fashion Silk Striped S...</td>\n",
       "    </tr>\n",
       "  </tbody>\n",
       "</table>\n",
       "<p>20 rows × 17 columns</p>\n",
       "</div>"
      ],
      "text/plain": [
       "                      Customer_uniq_id Region  Order_Date  \\\n",
       "0     c2d766ca982eca8304150849735ffef9  North  31-12-2021   \n",
       "1     7f7036a6d550aaa89d34c77bd39a5e48  East   31-12-2021   \n",
       "2     f449ec65dcbc041b6ae5e6a32717d01b  East   31-12-2021   \n",
       "3     0973b37acd0c664e3de26e97e5571454   West  31-12-2021   \n",
       "4     bc940ea42ee6bef5ac7cea3fb5cfbee7   West  31-12-2021   \n",
       "...                                ...    ...         ...   \n",
       "8922  90d30478255e23621e8929ed15c2f6e4  South  01-12-2020   \n",
       "8923  20a73e3f41490a73ceeba5f17658db8f   West  01-12-2020   \n",
       "8924  5c1554cd45f9d538c2c6947dbdd59c75  East   01-12-2020   \n",
       "8925  6b737a4deca1ed0e56c179e66036e994   West  01-12-2020   \n",
       "8926  a5235ac28d3d5487f54025f9d6b57433  North  01-12-2020   \n",
       "\n",
       "     Expected_Delivery_Date Delivered_Date  \\\n",
       "0                03-01-2022     02-01-2022   \n",
       "1                03-01-2022     02-01-2022   \n",
       "2                03-01-2022     02-01-2022   \n",
       "3                03-01-2022     02-01-2022   \n",
       "4                03-01-2022     02-01-2022   \n",
       "...                     ...            ...   \n",
       "8922             04-12-2020     04-12-2020   \n",
       "8923             04-12-2020     04-12-2020   \n",
       "8924             04-12-2020     04-12-2020   \n",
       "8925             04-12-2020     04-12-2020   \n",
       "8926             04-12-2020     04-12-2020   \n",
       "\n",
       "                                           product_name product_main_category  \\\n",
       "0                   Alisha Solid Women's Cycling Shorts             Clothing    \n",
       "1                   FabHomeDecor Fabric Double Sofa Bed            Furniture    \n",
       "2                                            AW Bellies             Footwear    \n",
       "3                   Alisha Solid Women's Cycling Shorts             Clothing    \n",
       "4                 Sicons All Purpose Arnica Dog Shampoo         Pet Supplies    \n",
       "...                                                 ...                   ...   \n",
       "8922  Sinina Chanderi Embroidered Salwar Suit Dupatt...             Clothing    \n",
       "8923  Aarushi Fashion Chanderi Embroidered Salwar Su...             Clothing    \n",
       "8924  Ambika Lahenga Embroidered Lehenga, Choli and ...             Clothing    \n",
       "8925  Sinina Chanderi Embroidered Salwar Suit Dupatt...             Clothing    \n",
       "8926  Aarushi Fashion Silk Striped Salwar Suit Dupat...             Clothing    \n",
       "\n",
       "          product_subcategory       product_category_filter  \\\n",
       "0           Women's Clothing    Lingerie, Sleep & Swimwear    \n",
       "1      Living Room Furniture            Sofa Beds & Futons    \n",
       "2           Women's Footwear                    Ballerinas    \n",
       "3           Women's Clothing    Lingerie, Sleep & Swimwear    \n",
       "4                   Grooming              Skin & Coat Care    \n",
       "...                       ...                           ...   \n",
       "8922        Women's Clothing                   Ethnic Wear    \n",
       "8923        Women's Clothing                   Ethnic Wear    \n",
       "8924        Women's Clothing                   Ethnic Wear    \n",
       "8925        Women's Clothing                   Ethnic Wear    \n",
       "8926        Women's Clothing                   Ethnic Wear    \n",
       "\n",
       "                             product_category_subfilter product_unique ID  \\\n",
       "0                                               Shorts   SRTEH2FF9KEDEFGF   \n",
       "1      FabHomeDecor Fabric Double Sofa Bed (Finish C...  SBEEH3QGU7MFYJFY   \n",
       "2                                            AW Bellies  SHOEH4GRSUBJGZXE   \n",
       "3                                               Shorts   SRTEH2F6HUZMQ6SJ   \n",
       "4                                              Shampoo   PSOEH3ZYDMSYARJ5   \n",
       "...                                                 ...               ...   \n",
       "8922                                            Fabric   FABEGGHHDFMY8BZU   \n",
       "8923                                            Fabric   FABEG8GFDUWRSNU3   \n",
       "8924                                    Lehenga Cholis   LEHEGGEHYN4G2RPW   \n",
       "8925                                            Fabric   FABEGGHHGSVCHGFV   \n",
       "8926                                            Fabric   FABEG8GYDAABECZH   \n",
       "\n",
       "      retail_price  discounted_price  product_rating            Brand  \\\n",
       "0              999               379             2.0           Alisha   \n",
       "1            32157             22646             2.0     FabHomeDecor   \n",
       "2              999               499             1.0               AW   \n",
       "3              699               267             5.0           Alisha   \n",
       "4              220               210             5.0           Sicons   \n",
       "...            ...               ...             ...              ...   \n",
       "8922          2980              1490             3.0           Sinina   \n",
       "8923          2600              1300             1.0  Aarushi Fashion   \n",
       "8924         39992             24995             1.0   Ambika Lahenga   \n",
       "8925          2000              1000             3.0           Sinina   \n",
       "8926          2800              1350             4.0  Aarushi Fashion   \n",
       "\n",
       "                                 product_specifications  \\\n",
       "0     {\"product_specification\"=>[{\"key\"=>\"Number of ...   \n",
       "1     {\"product_specification\"=>[{\"key\"=>\"Installati...   \n",
       "2     {\"product_specification\"=>[{\"key\"=>\"Ideal For\"...   \n",
       "3     {\"product_specification\"=>[{\"key\"=>\"Number of ...   \n",
       "4     {\"product_specification\"=>[{\"key\"=>\"Pet Type\",...   \n",
       "...                                                 ...   \n",
       "8922  {\"product_specification\"=>[{\"key\"=>\"Fabric\", \"...   \n",
       "8923  {\"product_specification\"=>[{\"key\"=>\"Fabric\", \"...   \n",
       "8924  {\"product_specification\"=>[{\"key\"=>\"Fabric\", \"...   \n",
       "8925  {\"product_specification\"=>[{\"key\"=>\"Fabric\", \"...   \n",
       "8926  {\"product_specification\"=>[{\"key\"=>\"Fabric\", \"...   \n",
       "\n",
       "                                            description  \n",
       "0     Key Features of Alisha Solid Women's Cycling S...  \n",
       "1     FabHomeDecor Fabric Double Sofa Bed (Finish Co...  \n",
       "2     Key Features of AW Bellies Sandals Wedges Heel...  \n",
       "3     Key Features of Alisha Solid Women's Cycling S...  \n",
       "4     Specifications of Sicons All Purpose Arnica Do...  \n",
       "...                                                 ...  \n",
       "8922  Key Features of Sinina Chanderi Embroidered Sa...  \n",
       "8923  Key Features of Aarushi Fashion Chanderi Embro...  \n",
       "8924  Key Features of Ambika Lahenga Embroidered Leh...  \n",
       "8925  Key Features of Sinina Chanderi Embroidered Sa...  \n",
       "8926  Key Features of Aarushi Fashion Silk Striped S...  \n",
       "\n",
       "[20 rows x 17 columns]"
      ]
     },
     "execution_count": 3,
     "metadata": {},
     "output_type": "execute_result"
    }
   ],
   "source": [
    "pd.concat([ECom_Data.head(10),ECom_Data.tail(10)])"
   ]
  },
  {
   "cell_type": "markdown",
   "id": "48baeda6",
   "metadata": {},
   "source": [
    "#### Ans 1 b)"
   ]
  },
  {
   "cell_type": "code",
   "execution_count": 4,
   "id": "0ac3ef5d",
   "metadata": {},
   "outputs": [
    {
     "name": "stdout",
     "output_type": "stream",
     "text": [
      "No. of rows=8927 and No. of columns=17\n",
      "No. of rows=8927 and No. of columns=17\n"
     ]
    }
   ],
   "source": [
    "#method 1:\n",
    "print(\"No. of rows={} and No. of columns={}\".format(ECom_Data.shape[0],ECom_Data.shape[1]))\n",
    "#method 2:\n",
    "print(\"No. of rows={} and No. of columns={}\".format(len(ECom_Data),len(ECom_Data.columns)))"
   ]
  },
  {
   "cell_type": "markdown",
   "id": "6aaa54a0",
   "metadata": {},
   "source": [
    "#### Ans  1 c)"
   ]
  },
  {
   "cell_type": "code",
   "execution_count": 5,
   "id": "115627b2",
   "metadata": {},
   "outputs": [
    {
     "name": "stdout",
     "output_type": "stream",
     "text": [
      "no. of object type columns: 14\n"
     ]
    }
   ],
   "source": [
    "print(\"no. of object type columns: {}\".format(sum(ECom_Data.dtypes=='object')))"
   ]
  },
  {
   "cell_type": "markdown",
   "id": "5e63573c",
   "metadata": {},
   "source": [
    "### Ans 1 d)"
   ]
  },
  {
   "cell_type": "code",
   "execution_count": 6,
   "id": "2b96d5be",
   "metadata": {},
   "outputs": [
    {
     "name": "stdout",
     "output_type": "stream",
     "text": [
      "no. of boolean data type in the data:0\n"
     ]
    }
   ],
   "source": [
    "print(\"no. of boolean data type in the data:{}\".format(sum(ECom_Data.dtypes==\"bool\")))"
   ]
  },
  {
   "cell_type": "markdown",
   "id": "cc5d76f1",
   "metadata": {},
   "source": [
    "<font color='blue'>\n",
    "    <font size = 5>\n",
    " Once you are familiar with the data, you may decide that not all features are of use to you and you may want to delete the non-informative features (columns)</font>"
   ]
  },
  {
   "cell_type": "markdown",
   "id": "90db65ce",
   "metadata": {},
   "source": [
    "## Q 2.\tEliminating the non-informative columns.\n",
    "## a)\tDrop the columns product_specifications and description. (2 marks) \n",
    "## b)\tWhich method or function is used to permanently delete the columns mentioned in part (b)? Write the code explicitly (2 marks)\n",
    "### Note: Use the markdown feature of Python to explain your answer.\n"
   ]
  },
  {
   "cell_type": "markdown",
   "id": "e0e7e762",
   "metadata": {},
   "source": [
    "### Ans 2 a)"
   ]
  },
  {
   "cell_type": "code",
   "execution_count": 7,
   "id": "35ad0821",
   "metadata": {},
   "outputs": [],
   "source": [
    "ECom_Data.drop(['product_specifications','description'],axis=1,inplace=True)"
   ]
  },
  {
   "cell_type": "markdown",
   "id": "e6159f6a",
   "metadata": {},
   "source": [
    "### Ans 2 b)"
   ]
  },
  {
   "cell_type": "code",
   "execution_count": null,
   "id": "47a63265",
   "metadata": {},
   "outputs": [],
   "source": []
  },
  {
   "cell_type": "markdown",
   "id": "cde421e0",
   "metadata": {},
   "source": [
    "<font color='blue'>\n",
    "    <font size = 5>\n",
    "        The next steps in this project involves summarization of data at various levels and visualization. Such apparently simple steps are very useful to get an overall sense of the data.\n",
    "    </font>"
   ]
  },
  {
   "cell_type": "markdown",
   "id": "41c30ad7",
   "metadata": {},
   "source": [
    "## Q 3. Here we summarize the data at brand level.\n",
    "## a) How many unique Brands are there. (1 mark)\n",
    "## b) Note that each brand contains multiple products. Show the average rating of the products within each Brand (2 marks)\n"
   ]
  },
  {
   "cell_type": "markdown",
   "id": "beb3f83f",
   "metadata": {},
   "source": [
    "### Ans 3 a)"
   ]
  },
  {
   "cell_type": "code",
   "execution_count": 8,
   "id": "41dcb79f",
   "metadata": {},
   "outputs": [
    {
     "name": "stdout",
     "output_type": "stream",
     "text": [
      "no. of unique brands in data:2580\n"
     ]
    }
   ],
   "source": [
    "print(\"no. of unique brands in data:{}\".format(len(ECom_Data.Brand.unique())))"
   ]
  },
  {
   "cell_type": "markdown",
   "id": "5083d866",
   "metadata": {},
   "source": [
    "### Ans 3 b)"
   ]
  },
  {
   "cell_type": "code",
   "execution_count": 9,
   "id": "10018c2c",
   "metadata": {},
   "outputs": [
    {
     "data": {
      "text/html": [
       "<div>\n",
       "<style scoped>\n",
       "    .dataframe tbody tr th:only-of-type {\n",
       "        vertical-align: middle;\n",
       "    }\n",
       "\n",
       "    .dataframe tbody tr th {\n",
       "        vertical-align: top;\n",
       "    }\n",
       "\n",
       "    .dataframe thead th {\n",
       "        text-align: right;\n",
       "    }\n",
       "</style>\n",
       "<table border=\"1\" class=\"dataframe\">\n",
       "  <thead>\n",
       "    <tr style=\"text-align: right;\">\n",
       "      <th></th>\n",
       "      <th></th>\n",
       "      <th>product_rating</th>\n",
       "    </tr>\n",
       "    <tr>\n",
       "      <th>Brand</th>\n",
       "      <th>product_name</th>\n",
       "      <th></th>\n",
       "    </tr>\n",
       "  </thead>\n",
       "  <tbody>\n",
       "    <tr>\n",
       "      <th rowspan=\"2\" valign=\"top\">1OAK</th>\n",
       "      <th>1OAK Women's Floral Print Casual Shirt</th>\n",
       "      <td>2.0</td>\n",
       "    </tr>\n",
       "    <tr>\n",
       "      <th>1OAK Women's Polka Print Casual Shirt</th>\n",
       "      <td>1.0</td>\n",
       "    </tr>\n",
       "    <tr>\n",
       "      <th rowspan=\"3\" valign=\"top\">3A AUTOCARE</th>\n",
       "      <th>3a AUTOCARE Car Mat Chevrolet Beat</th>\n",
       "      <td>4.0</td>\n",
       "    </tr>\n",
       "    <tr>\n",
       "      <th>3a AUTOCARE Car Mat Honda City</th>\n",
       "      <td>5.0</td>\n",
       "    </tr>\n",
       "    <tr>\n",
       "      <th>3a AUTOCARE Car Mat Honda Mobilio</th>\n",
       "      <td>4.0</td>\n",
       "    </tr>\n",
       "    <tr>\n",
       "      <th>...</th>\n",
       "      <th>...</th>\n",
       "      <td>...</td>\n",
       "    </tr>\n",
       "    <tr>\n",
       "      <th>youniqueshop</th>\n",
       "      <th>youniqueshop Plastic, Stainless Steel Hand Juicer</th>\n",
       "      <td>2.0</td>\n",
       "    </tr>\n",
       "    <tr>\n",
       "      <th>zDelhi.com</th>\n",
       "      <th>zDelhi.com Car Washer Z1 Ultra High Pressure Washer</th>\n",
       "      <td>5.0</td>\n",
       "    </tr>\n",
       "    <tr>\n",
       "      <th>zaidis</th>\n",
       "      <th>zaidis data_cable USB Cable</th>\n",
       "      <td>4.0</td>\n",
       "    </tr>\n",
       "    <tr>\n",
       "      <th>zasmina</th>\n",
       "      <th>zasmina Slippers</th>\n",
       "      <td>4.5</td>\n",
       "    </tr>\n",
       "    <tr>\n",
       "      <th>Tarkan</th>\n",
       "      <th>Tarkan Unique Style-2016 Umbrella</th>\n",
       "      <td>5.0</td>\n",
       "    </tr>\n",
       "  </tbody>\n",
       "</table>\n",
       "<p>6276 rows × 1 columns</p>\n",
       "</div>"
      ],
      "text/plain": [
       "                                                                 product_rating\n",
       "Brand        product_name                                                      \n",
       "1OAK         1OAK Women's Floral Print Casual Shirt                         2.0\n",
       "             1OAK Women's Polka Print Casual Shirt                          1.0\n",
       "3A AUTOCARE  3a AUTOCARE Car Mat Chevrolet Beat                             4.0\n",
       "             3a AUTOCARE Car Mat Honda City                                 5.0\n",
       "             3a AUTOCARE Car Mat Honda Mobilio                              4.0\n",
       "...                                                                         ...\n",
       "youniqueshop youniqueshop Plastic, Stainless Steel Hand Juicer              2.0\n",
       "zDelhi.com   zDelhi.com Car Washer Z1 Ultra High Pressure Wa...             5.0\n",
       "zaidis       zaidis data_cable USB Cable                                    4.0\n",
       "zasmina      zasmina Slippers                                               4.5\n",
       " Tarkan       Tarkan Unique Style-2016 Umbrella                             5.0\n",
       "\n",
       "[6276 rows x 1 columns]"
      ]
     },
     "execution_count": 9,
     "metadata": {},
     "output_type": "execute_result"
    }
   ],
   "source": [
    "pd.DataFrame(ECom_Data.groupby(['Brand','product_name']).product_rating.mean())"
   ]
  },
  {
   "cell_type": "markdown",
   "id": "bbf162af",
   "metadata": {},
   "source": [
    "## Q 4. Next we study the main categories of the products.\n",
    "\n",
    "## a) Create an appropriate plot to show the count of items ordered for each product_main_category. (5 marks).\n",
    "\n",
    "### Hint: Create a bar chart titled \"Product Category type\" where product names are on x-axis and counts are on y-axis.\n",
    "\n",
    "### Note: Both axis labels, i.e. the names of the product categories and counts must be clearly legible. \n",
    "\n",
    "## b) From the plot identify for which two product_main_category(s) the maximum and the minimum orders were placed. (2 marks)\n",
    "\n",
    "## c) Write code to print out the top 5 product_main_category(s)  in descending order? (2 marks"
   ]
  },
  {
   "cell_type": "code",
   "execution_count": null,
   "id": "5c65c13f",
   "metadata": {},
   "outputs": [],
   "source": []
  },
  {
   "cell_type": "markdown",
   "id": "36c72928",
   "metadata": {},
   "source": [
    "### Ans 4 a)"
   ]
  },
  {
   "cell_type": "code",
   "execution_count": 10,
   "id": "f60dd2c1",
   "metadata": {},
   "outputs": [
    {
     "data": {
      "text/plain": [
       "[Text(0, 0, 'Clothing '),\n",
       " Text(1, 0, 'Mobiles & Accessories '),\n",
       " Text(2, 0, 'Automotive '),\n",
       " Text(3, 0, 'Home Decor & Festive Needs '),\n",
       " Text(4, 0, 'Computers '),\n",
       " Text(5, 0, 'Tools & Hardware '),\n",
       " Text(6, 0, 'Footwear '),\n",
       " Text(7, 0, 'Kitchen & Dining '),\n",
       " Text(8, 0, 'Baby Care '),\n",
       " Text(9, 0, 'Jewellery '),\n",
       " Text(10, 0, 'Home Furnishing '),\n",
       " Text(11, 0, 'Beauty and Personal Care '),\n",
       " Text(12, 0, 'Bags, Wallets & Belts '),\n",
       " Text(13, 0, 'Pens & Stationery '),\n",
       " Text(14, 0, 'Sports & Fitness '),\n",
       " Text(15, 0, 'Toys & School Supplies '),\n",
       " Text(16, 0, 'Cameras & Accessories '),\n",
       " Text(17, 0, 'Watches '),\n",
       " Text(18, 0, 'Furniture '),\n",
       " Text(19, 0, 'Gaming '),\n",
       " Text(20, 0, 'Home & Kitchen '),\n",
       " Text(21, 0, 'Pet Supplies '),\n",
       " Text(22, 0, 'Home Entertainment '),\n",
       " Text(23, 0, 'Household Supplies '),\n",
       " Text(24, 0, 'Food & Nutrition '),\n",
       " Text(25, 0, 'Wearable Smart Devices ')]"
      ]
     },
     "execution_count": 10,
     "metadata": {},
     "output_type": "execute_result"
    },
    {
     "data": {
      "image/png": "[encoded data removed]",
      "text/plain": [
       "<Figure size 1440x1440 with 1 Axes>"
      ]
     },
     "metadata": {
      "needs_background": "light"
     },
     "output_type": "display_data"
    }
   ],
   "source": [
    "fig, axes= plt.subplots(nrows= 1, ncols= 1);\n",
    "fig.set_size_inches(20, 20);\n",
    "g=sns.countplot(ECom_Data.product_main_category,order=ECom_Data['product_main_category'].value_counts().index)\n",
    "g.set_xticklabels(labels=ECom_Data['product_main_category'].value_counts().index,rotation=90)"
   ]
  },
  {
   "cell_type": "markdown",
   "id": "13a5b355",
   "metadata": {},
   "source": [
    "### Ans 4 b)"
   ]
  },
  {
   "cell_type": "code",
   "execution_count": 11,
   "id": "24d3f75c",
   "metadata": {},
   "outputs": [
    {
     "name": "stdout",
     "output_type": "stream",
     "text": [
      "Clothing has maximum no. of orders and Wearable Smart Devices has minimum no. of orders\n"
     ]
    }
   ],
   "source": [
    "print(\"Clothing has maximum no. of orders and Wearable Smart Devices has minimum no. of orders\")"
   ]
  },
  {
   "cell_type": "markdown",
   "id": "4ea60c92",
   "metadata": {},
   "source": [
    "### Ans 4 c)"
   ]
  },
  {
   "cell_type": "code",
   "execution_count": 12,
   "id": "7f704116",
   "metadata": {},
   "outputs": [
    {
     "data": {
      "text/plain": [
       "Index(['Clothing ', 'Mobiles & Accessories ', 'Automotive ',\n",
       "       'Home Decor & Festive Needs ', 'Computers '],\n",
       "      dtype='object')"
      ]
     },
     "execution_count": 12,
     "metadata": {},
     "output_type": "execute_result"
    }
   ],
   "source": [
    "ECom_Data['product_main_category'].value_counts().index[:5]"
   ]
  },
  {
   "cell_type": "markdown",
   "id": "a9f81605",
   "metadata": {},
   "source": [
    "<font color='blue'>\n",
    "    <font size = 5>\n",
    "    In E-commerce, both the retailers (here brands) and the company have to make profit to sustain in the business. \n",
    "    The E-Commerce company has the following rule for computing their own revenue, which depends on how much each retailer can sell. </font>\n",
    "    \n",
    "####     The company charges each retailer (Brand) \n",
    "####  (i)\t25% on the final price (discounted price) of total orders if the number of orders placed is greater than 600        \n",
    "####  (ii) 15% on the final price (discounted price) of total orders if the number of orders placed is greater than 350 but less than or equal to 600 \n",
    "####  (iii) 10% on the final price (discounted price) of total orders if the number of orders placed is greater than 100 but less than or equal to 350 \n",
    "####  (iv) Otherwise, 5% on the final price (discounted price) of total orders \n",
    "\n",
    "   </font> "
   ]
  },
  {
   "cell_type": "markdown",
   "id": "0f255fea",
   "metadata": {},
   "source": [
    "## Q 5. Find the net revenue generated by the E-Commerce company over all orders placed. (6 marks)"
   ]
  },
  {
   "cell_type": "markdown",
   "id": "1f6b8028",
   "metadata": {},
   "source": [
    "### Ans 5"
   ]
  },
  {
   "cell_type": "code",
   "execution_count": 13,
   "id": "c62d888f",
   "metadata": {},
   "outputs": [],
   "source": [
    "df1=pd.DataFrame(ECom_Data.groupby(['Brand']).Customer_uniq_id.count())\n",
    "df2=pd.DataFrame(ECom_Data.groupby(['Brand']).discounted_price.sum())\n",
    "df=pd.concat([df1,df2],axis=1)\n",
    "df.columns=['order_no','brand_revenue']\n",
    "\n",
    "def revenue(x,y):\n",
    "    if x>600:\n",
    "        return y*0.25\n",
    "    elif x>350 and x<=600:\n",
    "        return y*0.15\n",
    "    elif x>100 and x<=350:\n",
    "        return y*0.10\n",
    "    else:\n",
    "        return y*0.05\n",
    "    \n",
    "df['revenue']=df.apply(lambda x: revenue(x['order_no'],x['brand_revenue']),axis=1)"
   ]
  },
  {
   "cell_type": "code",
   "execution_count": 14,
   "id": "2b0dcaeb",
   "metadata": {},
   "outputs": [
    {
     "name": "stdout",
     "output_type": "stream",
     "text": [
      "Total revenue of E_Commerce:615446.95\n"
     ]
    }
   ],
   "source": [
    "print(\"Total revenue of E_Commerce:{}\".format(round(df['revenue'].sum(),2)))"
   ]
  },
  {
   "cell_type": "markdown",
   "id": "9161ca8c",
   "metadata": {},
   "source": [
    "<font color='blue'>\n",
    "    <font size = 5>\n",
    "    Now you need to find the revenue for each retailer (Brand)\n",
    "    </font>"
   ]
  },
  {
   "cell_type": "markdown",
   "id": "73dd23c3",
   "metadata": {},
   "source": [
    "## Q6.Calculate the BrandRevenue for each brand and list the top 14 brands having maximum revenue in descending order (5 marks)\n",
    "#### Hint: Brand revenue is different from the E-Commerce company revenue.\n"
   ]
  },
  {
   "cell_type": "markdown",
   "id": "3514fa79",
   "metadata": {},
   "source": [
    "### Ans 6"
   ]
  },
  {
   "cell_type": "code",
   "execution_count": 42,
   "id": "437c69b5",
   "metadata": {},
   "outputs": [
    {
     "name": "stdout",
     "output_type": "stream",
     "text": [
      "top brands are:\n",
      "\n",
      "Allure Auto\n",
      "TheLostPuppy\n",
      "Slim\n",
      "GAGA\n",
      "Regular\n",
      "Enthopia\n",
      "HugMe.fashion\n",
      "Speedwav\n",
      "Black\n",
      "Lapguard\n",
      "DeStudio\n",
      "Yuccabe Italia\n",
      "Asus\n",
      "White\n"
     ]
    }
   ],
   "source": [
    "top_brand=pd.DataFrame(ECom_Data.groupby(['Brand']).retail_price.sum()-ECom_Data.groupby(['Brand']).discounted_price.sum())\n",
    "top_brand.columns=['BrandRevenue']\n",
    "l=top_brand.sort_values('BrandRevenue',ascending=False).head(14).index\n",
    "print(\"top brands are:\\n\")\n",
    "for i in l:\n",
    "    print(i)\n"
   ]
  },
  {
   "cell_type": "markdown",
   "id": "2a2bbd83",
   "metadata": {},
   "source": [
    "<font color='blue'>\n",
    "    <font size = 5>\n",
    "Let us now investigate multiple features for each product to determine any pattern.\n",
    "</font>"
   ]
  },
  {
   "cell_type": "markdown",
   "id": "1aa1834b",
   "metadata": {},
   "source": [
    "## Q 7. Compare prices for each product.\n",
    "\n",
    "## a)\tDraw boxplots of retail_price & discount_price. (2 marks)\n",
    "\n",
    "## b)\t Are there any outliers? (Yes/No) (1mark)\n",
    "\n",
    "## c)\tCreate a scatterplot of retail_price (x-axis) and discounted_price (y-axis) (2 marks)\n"
   ]
  },
  {
   "cell_type": "markdown",
   "id": "d5aae861",
   "metadata": {},
   "source": [
    "### Ans 7 a)"
   ]
  },
  {
   "cell_type": "code",
   "execution_count": 20,
   "id": "510fd4d0",
   "metadata": {},
   "outputs": [
    {
     "data": {
      "image/png": "[encoded data removed]",
      "text/plain": [
       "<Figure size 1800x1800 with 1 Axes>"
      ]
     },
     "metadata": {
      "needs_background": "light"
     },
     "output_type": "display_data"
    }
   ],
   "source": [
    "plt.rcParams[\"figure.figsize\"] = [25, 25]\n",
    "ax = ECom_Data[['retail_price', 'discounted_price']].plot(kind='box', title='boxplot')\n",
    "plt.show()"
   ]
  },
  {
   "cell_type": "markdown",
   "id": "78b92e7c",
   "metadata": {},
   "source": [
    "### Ans 7 b)"
   ]
  },
  {
   "cell_type": "code",
   "execution_count": 21,
   "id": "0af7c034",
   "metadata": {},
   "outputs": [
    {
     "name": "stdout",
     "output_type": "stream",
     "text": [
      "Yes, there are lot of outliers in both features.\n"
     ]
    }
   ],
   "source": [
    "print(\"Yes, there are lot of outliers in both features.\")"
   ]
  },
  {
   "cell_type": "markdown",
   "id": "0389c9b8",
   "metadata": {},
   "source": [
    "### Ans 7 c)"
   ]
  },
  {
   "cell_type": "code",
   "execution_count": 25,
   "id": "d8c44be9",
   "metadata": {},
   "outputs": [
    {
     "data": {
      "image/png": "[encoded data removed]",
      "text/plain": [
       "<Figure size 720x432 with 1 Axes>"
      ]
     },
     "metadata": {
      "needs_background": "light"
     },
     "output_type": "display_data"
    }
   ],
   "source": [
    "fig, ax = plt.subplots(figsize=(10, 6))\n",
    "sns.scatterplot(ECom_Data['retail_price'],ECom_Data['discounted_price'])\n",
    "plt.show()"
   ]
  },
  {
   "cell_type": "markdown",
   "id": "3bc47f55",
   "metadata": {},
   "source": [
    "<font color='blue'>\n",
    "    <font size = 5>\n",
    "    The next steps will enable to study brand-level information.\n",
    "    </font>"
   ]
  },
  {
   "cell_type": "markdown",
   "id": "b9bd00f7",
   "metadata": {},
   "source": [
    "## Q 8. Create a new dataframe to include the brand specific information as stated:\n",
    "## i.\ttotal number of orders placed per brand\n",
    "## ii.\ttotal retail_price per brand\n",
    "## iii.\ttotal discount_price per brand, and \n",
    "## iv.\ttotal BrandRevenue generated per brand. \n",
    "\n",
    "## Also, draw a pairplot using these four features. (3 marks)\n"
   ]
  },
  {
   "cell_type": "markdown",
   "id": "8f83cea9",
   "metadata": {},
   "source": [
    "### Ans 8"
   ]
  },
  {
   "cell_type": "code",
   "execution_count": 46,
   "id": "ae749847",
   "metadata": {},
   "outputs": [
    {
     "data": {
      "text/html": [
       "<div>\n",
       "<style scoped>\n",
       "    .dataframe tbody tr th:only-of-type {\n",
       "        vertical-align: middle;\n",
       "    }\n",
       "\n",
       "    .dataframe tbody tr th {\n",
       "        vertical-align: top;\n",
       "    }\n",
       "\n",
       "    .dataframe thead th {\n",
       "        text-align: right;\n",
       "    }\n",
       "</style>\n",
       "<table border=\"1\" class=\"dataframe\">\n",
       "  <thead>\n",
       "    <tr style=\"text-align: right;\">\n",
       "      <th></th>\n",
       "      <th>order_count</th>\n",
       "      <th>retail_price</th>\n",
       "      <th>discount_price</th>\n",
       "      <th>brandrevenue</th>\n",
       "    </tr>\n",
       "    <tr>\n",
       "      <th>Brand</th>\n",
       "      <th></th>\n",
       "      <th></th>\n",
       "      <th></th>\n",
       "      <th></th>\n",
       "    </tr>\n",
       "  </thead>\n",
       "  <tbody>\n",
       "    <tr>\n",
       "      <th>1OAK</th>\n",
       "      <td>2</td>\n",
       "      <td>1698</td>\n",
       "      <td>1274</td>\n",
       "      <td>424</td>\n",
       "    </tr>\n",
       "    <tr>\n",
       "      <th>3A AUTOCARE</th>\n",
       "      <td>41</td>\n",
       "      <td>107059</td>\n",
       "      <td>74134</td>\n",
       "      <td>32925</td>\n",
       "    </tr>\n",
       "    <tr>\n",
       "      <th>3D Mat</th>\n",
       "      <td>1</td>\n",
       "      <td>7250</td>\n",
       "      <td>6999</td>\n",
       "      <td>251</td>\n",
       "    </tr>\n",
       "    <tr>\n",
       "      <th>3kFactory</th>\n",
       "      <td>1</td>\n",
       "      <td>399</td>\n",
       "      <td>174</td>\n",
       "      <td>225</td>\n",
       "    </tr>\n",
       "    <tr>\n",
       "      <th>4D</th>\n",
       "      <td>5</td>\n",
       "      <td>17500</td>\n",
       "      <td>7948</td>\n",
       "      <td>9552</td>\n",
       "    </tr>\n",
       "    <tr>\n",
       "      <th>...</th>\n",
       "      <td>...</td>\n",
       "      <td>...</td>\n",
       "      <td>...</td>\n",
       "      <td>...</td>\n",
       "    </tr>\n",
       "    <tr>\n",
       "      <th>youniqueshop</th>\n",
       "      <td>1</td>\n",
       "      <td>810</td>\n",
       "      <td>640</td>\n",
       "      <td>170</td>\n",
       "    </tr>\n",
       "    <tr>\n",
       "      <th>zDelhi.com</th>\n",
       "      <td>1</td>\n",
       "      <td>4499</td>\n",
       "      <td>3999</td>\n",
       "      <td>500</td>\n",
       "    </tr>\n",
       "    <tr>\n",
       "      <th>zaidis</th>\n",
       "      <td>1</td>\n",
       "      <td>150</td>\n",
       "      <td>129</td>\n",
       "      <td>21</td>\n",
       "    </tr>\n",
       "    <tr>\n",
       "      <th>zasmina</th>\n",
       "      <td>2</td>\n",
       "      <td>1400</td>\n",
       "      <td>639</td>\n",
       "      <td>761</td>\n",
       "    </tr>\n",
       "    <tr>\n",
       "      <th>Tarkan</th>\n",
       "      <td>1</td>\n",
       "      <td>1999</td>\n",
       "      <td>349</td>\n",
       "      <td>1650</td>\n",
       "    </tr>\n",
       "  </tbody>\n",
       "</table>\n",
       "<p>2580 rows × 4 columns</p>\n",
       "</div>"
      ],
      "text/plain": [
       "              order_count  retail_price  discount_price  brandrevenue\n",
       "Brand                                                                \n",
       "1OAK                    2          1698            1274           424\n",
       "3A AUTOCARE            41        107059           74134         32925\n",
       "3D Mat                  1          7250            6999           251\n",
       "3kFactory               1           399             174           225\n",
       "4D                      5         17500            7948          9552\n",
       "...                   ...           ...             ...           ...\n",
       "youniqueshop            1           810             640           170\n",
       "zDelhi.com              1          4499            3999           500\n",
       "zaidis                  1           150             129            21\n",
       "zasmina                 2          1400             639           761\n",
       " Tarkan                 1          1999             349          1650\n",
       "\n",
       "[2580 rows x 4 columns]"
      ]
     },
     "execution_count": 46,
     "metadata": {},
     "output_type": "execute_result"
    }
   ],
   "source": [
    "df1=pd.DataFrame(ECom_Data.groupby(['Brand']).Customer_uniq_id.count())\n",
    "df2=pd.DataFrame(ECom_Data.groupby(['Brand']).retail_price.sum())\n",
    "df3=pd.DataFrame(ECom_Data.groupby(['Brand']).discounted_price.sum())\n",
    "df4=pd.DataFrame(ECom_Data.groupby(['Brand']).retail_price.sum()-ECom_Data.groupby(['Brand']).discounted_price.sum())\n",
    "brand_df=pd.concat([df1,df2,df3,df4],axis=1)\n",
    "brand_df.columns=['order_count','retail_price','discount_price','brandrevenue']\n",
    "brand_df"
   ]
  },
  {
   "cell_type": "code",
   "execution_count": 48,
   "id": "caf54e99",
   "metadata": {},
   "outputs": [
    {
     "data": {
      "image/png": "[encoded data removed]",
      "text/plain": [
       "<Figure size 720x720 with 20 Axes>"
      ]
     },
     "metadata": {
      "needs_background": "light"
     },
     "output_type": "display_data"
    }
   ],
   "source": [
    "sns.pairplot(brand_df)\n",
    "plt.show()"
   ]
  },
  {
   "cell_type": "markdown",
   "id": "ecec83f4",
   "metadata": {},
   "source": [
    "<font color='blue'>\n",
    "    <font size = 5>\n",
    "    The E-Commerce company operate in multiple regions. It is important to understand its performance in each region.\n",
    "    </font>"
   ]
  },
  {
   "cell_type": "markdown",
   "id": "dd09b8aa",
   "metadata": {},
   "source": [
    "## Q 9.Compare performance regionwise\n",
    "\n",
    "## a)\tDraw a lineplot for the monthly Revenue of ECom Company for each region separately.  (4 marks) \n",
    "\n",
    "## b)\tIdentify the best and the worst performing months for each region. (2 marks)\n"
   ]
  },
  {
   "cell_type": "markdown",
   "id": "e6d64aea",
   "metadata": {},
   "source": [
    "### Ans 9 a)"
   ]
  },
  {
   "cell_type": "code",
   "execution_count": null,
   "id": "d9a4f534",
   "metadata": {},
   "outputs": [],
   "source": []
  },
  {
   "cell_type": "markdown",
   "id": "dac59dc4",
   "metadata": {},
   "source": [
    "### Ans 9 b)"
   ]
  },
  {
   "cell_type": "code",
   "execution_count": null,
   "id": "9f569635",
   "metadata": {},
   "outputs": [],
   "source": []
  },
  {
   "cell_type": "markdown",
   "id": "dcb8d39f",
   "metadata": {},
   "source": [
    "<font color='blue'>\n",
    "    <font size = 5>\n",
    "    Congratulations! You have learnt how to approach a complex data and extract information out of it. \n",
    "    </font>"
   ]
  }
 ],
 "metadata": {
  "hide_input": false,
  "kernelspec": {
   "display_name": "Python 3 (ipykernel)",
   "language": "python",
   "name": "python3"
  },
  "language_info": {
   "codemirror_mode": {
    "name": "ipython",
    "version": 3
   },
   "file_extension": ".py",
   "mimetype": "text/x-python",
   "name": "python",
   "nbconvert_exporter": "python",
   "pygments_lexer": "ipython3",
   "version": "3.10.0"
  },
  "latex_envs": {
   "LaTeX_envs_menu_present": true,
   "autoclose": false,
   "autocomplete": true,
   "bibliofile": "biblio.bib",
   "cite_by": "apalike",
   "current_citInitial": 1,
   "eqLabelWithNumbers": true,
   "eqNumInitial": 1,
   "hotkeys": {
    "equation": "Ctrl-E",
    "itemize": "Ctrl-I"
   },
   "labels_anchors": false,
   "latex_user_defs": false,
   "report_style_numbering": false,
   "user_envs_cfg": false
  },
  "varInspector": {
   "cols": {
    "lenName": 16,
    "lenType": 16,
    "lenVar": 40
   },
   "kernels_config": {
    "python": {
     "delete_cmd_postfix": "",
     "delete_cmd_prefix": "del ",
     "library": "var_list.py",
     "varRefreshCmd": "print(var_dic_list())"
    },
    "r": {
     "delete_cmd_postfix": ") ",
     "delete_cmd_prefix": "rm(",
     "library": "var_list.r",
     "varRefreshCmd": "cat(var_dic_list()) "
    }
   },
   "types_to_exclude": [
    "module",
    "function",
    "builtin_function_or_method",
    "instance",
    "_Feature"
   ],
   "window_display": false
  }
 },
 "nbformat": 4,
 "nbformat_minor": 5
}
